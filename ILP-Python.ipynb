{
  "nbformat": 4,
  "nbformat_minor": 0,
  "metadata": {
    "colab": {
      "name": "Introdução á lógica de programação com python.ipynb",
      "provenance": [],
      "toc_visible": true,
      "authorship_tag": "ABX9TyONsg23R1bf4NTNEz78NAHn",
      "include_colab_link": true
    },
    "kernelspec": {
      "name": "python3",
      "display_name": "Python 3"
    }
  },
  "cells": [
    {
      "cell_type": "markdown",
      "metadata": {
        "id": "view-in-github",
        "colab_type": "text"
      },
      "source": [
        "<a href=\"https://colab.research.google.com/github/IEEEComputerSocietyUFBA/ILP-Python/blob/main/ILP-Python.ipynb\" target=\"_parent\"><img src=\"https://colab.research.google.com/assets/colab-badge.svg\" alt=\"Open In Colab\"/></a>"
      ]
    },
    {
      "cell_type": "markdown",
      "metadata": {
        "id": "etiKR_Frt3ex"
      },
      "source": [
        "#__<center>Introdução à Lógica de Programação com Python</center>__\n",
        "\n",
        "\n",
        "\n",
        "\n",
        "\n",
        "###<center>Por: <a href=\"https://github.com/Sergio-BR1\" target=\"blank\">Sérgio Brito</a> em <a href=\"https://www.instagram.com/ieeecsufba/?hl=pt-br\" target=\"blank\">IEEE CS UFBA</a></center>###"
      ]
    },
    {
      "cell_type": "markdown",
      "metadata": {
        "id": "11VpKNJZO2uI"
      },
      "source": [
        "## __Aula 0__"
      ]
    },
    {
      "cell_type": "markdown",
      "metadata": {
        "id": "nHWiYecl4DcW"
      },
      "source": [
        "###__Algoritmo__\n",
        "<br></br>\n",
        "\n",
        "<p align=\"justify\">A lógica de programação é a capacidade que todo programador precisa ter para resolver os  problemas que aparecem no dia-a-dia. A capacidade de dividir o problema em partes menores é  uma etapa essencial da lógica de programação e precisa ser levada em consideração quando nos  deparamos com qualquer exercício/desafio. É nesse ponto que entra o conceito de algoritmo,  descrito geralmente como uma sequência lógica de ações capaz de resolver um problema.</p>\n",
        "<p align=\"justify\">É válido ressaltar, no entanto, que o conceito de algoritmo vai muito além da programação. Uma  receita de bolo, por exemplo, é um simples algoritmo. Até mesmo algo como “mascar  um chiclete” pode ser descrito como um algoritmo, como mostrado na Código 1.</p>\n",
        "<br></br>\n",
        "# <center><img src=\"https://pbs.twimg.com/media/D0hcpZ9WoAE0sRi.jpg\"></center>\n"
      ]
    },
    {
      "cell_type": "markdown",
      "metadata": {
        "id": "Tb6V51OJCNKm"
      },
      "source": [
        "Código 1\n",
        "~~~python\n",
        "1 - pegar o chiclete\n",
        "2 - retirar o papel \n",
        "3 - mascar o chiclete\n",
        "4 - jogar o papel no lixo\n",
        "5 - jogar o chiclete no lixo\n",
        "~~~~\n",
        "_Algoritmo para mascar chiclete_"
      ]
    },
    {
      "cell_type": "markdown",
      "metadata": {
        "id": "mnI1vusRD7bY"
      },
      "source": [
        "<p align=\"justify\">A maioria dos algoritmos, obviamente, será mais complexa do que simplesmente “mascar  um chiclete” ou “fazer um bolo”. No caso da computação, uma soma de dois números é o  exemplo mais clássico de um algoritmo simples. Algo como o mostrado na Código 2 é  bastante comum para observarmos que temos uma sequência lógica de ações que  envolvem os três elementos que comentamos anteriormente: entrada de dados,  processamento e saída de dados.</p>\n"
      ]
    },
    {
      "cell_type": "markdown",
      "metadata": {
        "id": "rw9AvSZRHvr6"
      },
      "source": [
        "Código 2\n",
        "\n",
        "~~~python\n",
        "1 - inserir o primeiro número\n",
        "2- inserir o segundo número\n",
        "3 - somar os 2 valores\n",
        "4 - mostrar o resultado\n",
        "~~~~\n",
        "_Algoritmo para soma de dois números._\n",
        "\n",
        "<br></br>\n",
        "\n",
        "<p>Ações 1 e 2: Entrada de dados;</p>\n",
        "<p>Ação 3: Processamento das informações inseridas;</p>\n",
        "<p>Ação 4: Saída de dados.</p>"
      ]
    },
    {
      "cell_type": "markdown",
      "metadata": {
        "id": "ul2yjdZIJP_k"
      },
      "source": [
        "###__Introdução ao pseudocódigo__###\n",
        "<br></br>\n",
        "\n",
        "<p align=\"justify\">A representação de algoritmos pode ser feita de várias formas; a que mostramos na Código 2 é  uma delas. Entretanto, essa opção não possui nenhum tipo de regra mais formal, o que faz com  que esteja um pouco distante da programação propriamente dita. Para aproximar um pouco mais  os dois conceitos, o pseudocódigo foi criado (um dos exemplos de pseudocódigo mais conhecidos  no Brasil é o Portugol). Além dele, podemos encontrar várias opções. O objetivo de todos, no  entanto, é um só: criar um código que se aproxime do que será visto em linguagens de  programação como Python C, C# ou Java.</p>\n",
        "<p align=\"justify\">Nosso algoritmo da soma de dois números, em Python, seria algo como o mostrado na Código 3.  Note que o código 3 é um pouco diferente da forma habitual em que o pseudocódigo é  apresentado, pois temos como objetivo trazer algo mais próximo do python.</p>\n"
      ]
    },
    {
      "cell_type": "markdown",
      "metadata": {
        "id": "X1ri47b7Khbm"
      },
      "source": [
        "Código 3\n",
        "\n",
        "~~~python\n",
        "a = inteiro(leitura)\n",
        "b = inteiro(leitura)\n",
        "resultado = (a + b)\n",
        "escrever(resultado)\n",
        "~~~\n",
        "_Soma de dois números em  pseudocódigo semelhante à syntaxe do  python_\n",
        "<br></br>\n",
        "\n",
        "<p>Linhas 1 e 2: Declaração das variáveis \"a\" e \"b\" como inteiros de leitura, isto é, tais  variáveis guardarão os números inteiros digitados pelo usuário do programa.</p>\n",
        "<p>Linha 3: Declaração da variável resultado como resultado da soma de a + b, ou  seja, o computador irá somar os valores de \"a\" e \"b\" e irá guardar na variável  \"resultado\".</p>\n",
        "<p>Linha 4: Comando para que o computador exiba o valor de \"resultado\" na tela do  computador.</p>\n"
      ]
    },
    {
      "cell_type": "markdown",
      "metadata": {
        "id": "gRXi4VMmNfHV"
      },
      "source": [
        "## __Aula 1__"
      ]
    },
    {
      "cell_type": "markdown",
      "metadata": {
        "id": "G0vCRnVnQkMN"
      },
      "source": [
        "###__Variáveis__\n",
        "<br></br>\n",
        "\n",
        "<p align=\"justify\">Variáveis são espaços na memória do computador, usados para armazenar dados que serão alterados durante a execução do programa. Elas possuem tipos diferentes e podem ser declaradas ou não como entradas, isto é, seus valores serão definidos pelo usuário do programa. Abaixo temos os tipos de variáveis e como declará-los, mas por ora não será necessário se preocupar com a declaração, apenas nomear e atribuir valor para cada.</p>\n",
        "<p>Inteiro: Números inteiros (1; 2; 3…). São declarados como int.</p>\n",
        "<p>Float: Números com ponto flutuante (reais), ex: 2,1; 3,4; 5,6; etc. (Note que nas linguagens de programação, a vírgula é substituída pelo ponto “.”). São declarados como float.</p>\n",
        "<p>String: sequências de caracteres, como nomes ou combinações de letras e números. São declaradas como str.</p>\n",
        "<p>Booleanos: Só admitem True ou False, são normalmente usados para comparações. São declarados como bool.</p>\n"
      ]
    },
    {
      "cell_type": "markdown",
      "metadata": {
        "id": "9ieVaj45SX6C"
      },
      "source": [
        "<p align=\"justify\">Para iniciar uma variável, precisamos nomeá-la e atribuir um valor, como por exemplo a = 30 ou nome = Maria, mas note que elas não podem ser iniciadas com números e é uma boa prática entre programadores de python iniciá-las com letras minúsculas. Lembre-se que não se pode nomear variáveis com palavras reservadas da linguagem, são elas:</p>\n",
        "<center><pre>and        del        from        None        True\n",
        " as        elif        global        nonlocal        try\n",
        " assert        else        if        not        while\n",
        " break        except        import        or        with\n",
        " class        False        in        pass        yield\n",
        " continue        finaly        is        raise        def\n",
        " for        lambda        return</pre></center>"
      ]
    },
    {
      "cell_type": "markdown",
      "metadata": {
        "id": "3xXqsUY-UZyb"
      },
      "source": [
        "### __Entrada do usuário__\n",
        "<br></br>\n",
        "\n",
        "<p>Em um programa, podemos pedir que o usuário determine um valor para nossa variável, de acordo com o uso do programa, a declaração ocorre como no modelo nome da variável = tipo de dado(input(‘Mensagem a ser exibida ao usuário)). Exemplos:</p>\n",
        "\n"
      ]
    },
    {
      "cell_type": "code",
      "metadata": {
        "id": "M9NHH_WsXg6Q"
      },
      "source": [
        "num = int(input(\"Digite um número \"))\n"
      ],
      "execution_count": null,
      "outputs": []
    },
    {
      "cell_type": "code",
      "metadata": {
        "id": "ykcseIi-YEeM"
      },
      "source": [
        "nome =  str(input(\"Digite seu nome\"))\n"
      ],
      "execution_count": null,
      "outputs": []
    },
    {
      "cell_type": "markdown",
      "metadata": {
        "id": "eso0YibkYbS2"
      },
      "source": [
        "<p>Lembre que a declaração precisa ser feita nessa ordem e os parênteses precisam ser fechados sempre. A mensagem a ser exibida precisa sempre estar entre as aspas, podendo ser usadas as aspas simples (‘ ‘) ou duplas (“ “).</p>\n",
        "<p align=\"justify\">O input indica ao computador que o valor da variável será recebida do usuário, as mensagens de input não são obrigatórias, porém sempre tenha em mente que no desenvolvimento de programas seu uso é imprescindível.</p>\n",
        "\n"
      ]
    },
    {
      "cell_type": "markdown",
      "metadata": {
        "id": "0o1xNeicapY6"
      },
      "source": [
        "###__Saída de dados__\n",
        "<br></br>\n",
        "\n",
        "Quando precisamos exibir algo na tela, usamos a função print() e dentro dos parênteses colocamos a mensagem a ser exibida entre aspas ou a variável a qual queremos exibir o valor. Exemplo:\n",
        "\n"
      ]
    },
    {
      "cell_type": "code",
      "metadata": {
        "id": "LFpXHiYraxAb"
      },
      "source": [
        "print(\"Olá Mundo\")\n"
      ],
      "execution_count": null,
      "outputs": []
    },
    {
      "cell_type": "markdown",
      "metadata": {
        "id": "pjhTmgRibTSF"
      },
      "source": [
        "ou"
      ]
    },
    {
      "cell_type": "code",
      "metadata": {
        "id": "eQGOVJfsbR9H"
      },
      "source": [
        "a = \"Sopa é janta sim!\"\n",
        "print(a)"
      ],
      "execution_count": null,
      "outputs": []
    },
    {
      "cell_type": "markdown",
      "metadata": {
        "id": "LbGvatcZbu2_"
      },
      "source": [
        "###__Operadores Aritméticos__\n",
        "<br></br>\n",
        "\n",
        "<p align=\"justify\">Quando queremos fazer operações com números, precisamos usar símbolos, são os mais utilizados o ‘+’, para adição; ‘-’, para subtração, ‘/’ para divisão e ‘*’ para multiplicação. Em caso do uso de várias operações em cadeia, o python seguirá a mesma ordem de precedência da matemática:</p>\n",
        "\n",
        "*   Parênteses\n",
        "*   Exponenciação\n",
        "*   Multiplicação e divisão (que possuem a mesma precedência)\n",
        "*   Adição e subtração (que possuem a mesma precedência)\n",
        "<p>Em caso de operadores de mesma precedência, será feita primeiro a operação da esquerda para a direita, ou seja no caso de 10/2*3, o computador fará 10/2 e multiplicar o resultado por 3.</p>\n",
        "\n",
        "\n",
        "\n",
        "\n",
        "\n",
        "\n"
      ]
    },
    {
      "cell_type": "code",
      "metadata": {
        "id": "kJo0sZTRc7dZ"
      },
      "source": [
        "print(10/2*3)"
      ],
      "execution_count": null,
      "outputs": []
    },
    {
      "cell_type": "code",
      "metadata": {
        "id": "Zx1Mor-jaofm"
      },
      "source": [
        "print(10/3*2)"
      ],
      "execution_count": null,
      "outputs": []
    },
    {
      "cell_type": "markdown",
      "metadata": {
        "id": "BQbQv-Q-dHor"
      },
      "source": [
        "Os operadores aritméticos em Python são:\n",
        "<br></br>\n",
        "\n",
        "Operador   | Nome\n",
        "--------- | ------\n",
        "+| Adição\n",
        "-| Subtração\n",
        "/ | Divisão\n",
        "// | Divisão inteira (sem casas decimais)\n",
        "* | Multiplição\n",
        "** | Potenciação\n",
        "% | Resto da divisão"
      ]
    },
    {
      "cell_type": "code",
      "metadata": {
        "id": "VCLoCji4e1Mv"
      },
      "source": [
        "print(10 + 20)"
      ],
      "execution_count": null,
      "outputs": []
    },
    {
      "cell_type": "code",
      "metadata": {
        "id": "lWstkdmye5MH"
      },
      "source": [
        "print(300 - 120)"
      ],
      "execution_count": null,
      "outputs": []
    },
    {
      "cell_type": "code",
      "metadata": {
        "id": "8QZwY7aZe8nR"
      },
      "source": [
        "print(365/7)"
      ],
      "execution_count": null,
      "outputs": []
    },
    {
      "cell_type": "code",
      "metadata": {
        "id": "5SfcIIC3fAYZ"
      },
      "source": [
        "print(365//7)"
      ],
      "execution_count": null,
      "outputs": []
    },
    {
      "cell_type": "code",
      "metadata": {
        "id": "iahS6ES9fCoS"
      },
      "source": [
        "print(2*8)"
      ],
      "execution_count": null,
      "outputs": []
    },
    {
      "cell_type": "code",
      "metadata": {
        "id": "Z5b_HhU5fNRg"
      },
      "source": [
        "print(2**8)"
      ],
      "execution_count": null,
      "outputs": []
    },
    {
      "cell_type": "code",
      "metadata": {
        "colab": {
          "base_uri": "https://localhost:8080/"
        },
        "id": "fSiYGpuRfUAw",
        "outputId": "6ae6ab4d-c4b1-4512-faa7-fed3cabeb73c"
      },
      "source": [
        "print(365%7)"
      ],
      "execution_count": null,
      "outputs": [
        {
          "output_type": "stream",
          "text": [
            "1\n"
          ],
          "name": "stdout"
        }
      ]
    },
    {
      "cell_type": "markdown",
      "metadata": {
        "id": "Isv5wyVEffKt"
      },
      "source": [
        "###__Strings__\n",
        "<p>Podemos usar o operador ‘+’ em python, quando usamos isso pra unir strings, chamamos de concatenação.</p>\n",
        "\n"
      ]
    },
    {
      "cell_type": "code",
      "metadata": {
        "id": "Qv4nVdRTf0Lu"
      },
      "source": [
        "texto1 = \"Sasuskeeee \"\n",
        "texto2 = \" Narutoooooo\" \n",
        "print(texto1 + texto2)\n"
      ],
      "execution_count": null,
      "outputs": []
    },
    {
      "cell_type": "markdown",
      "metadata": {
        "id": "mcR3qp5CgQEu"
      },
      "source": [
        "Também é possível utilizar o operador ‘*’. "
      ]
    },
    {
      "cell_type": "code",
      "metadata": {
        "id": "ubfJGhOVgPDl"
      },
      "source": [
        "texto = \"Ah é? Repete! \"\n",
        "print(texto * 3)\n"
      ],
      "execution_count": null,
      "outputs": []
    },
    {
      "cell_type": "markdown",
      "metadata": {
        "id": "rT3aS3iPgs0-"
      },
      "source": [
        "Strings possuem várias funções chamadas de métodos, que podem ser muito úteis, são exemplos o método upper(), que coloca todas as letras em caixa alta e o .capitalize(), que coloca a primeira letra da string em caixa alta."
      ]
    },
    {
      "cell_type": "code",
      "metadata": {
        "id": "HxhGJ5U7gyAX"
      },
      "source": [
        "texto = \"Ah é? Repete! \"\n",
        "texto = texto.upper()\n",
        "print(texto * 3)"
      ],
      "execution_count": null,
      "outputs": []
    },
    {
      "cell_type": "code",
      "metadata": {
        "id": "IO0oRhq5gmHX"
      },
      "source": [
        "texto = \"Ah é? Repete! \"\n",
        "print(texto.upper() * 3)"
      ],
      "execution_count": null,
      "outputs": []
    },
    {
      "cell_type": "markdown",
      "metadata": {
        "id": "QZrsK3l6hWnd"
      },
      "source": [
        "Mais métodos podem ser encontrados [aqui](https://docs.python.org/3/library/stdtypes.html#string-methods). Vocês já têm conhecimento suficiente para buscá-lo métodos especiais para strings em Python, se desejar.\n"
      ]
    },
    {
      "cell_type": "markdown",
      "metadata": {
        "id": "D0yRbN8piCTD"
      },
      "source": [
        "## __Aula 2__"
      ]
    },
    {
      "cell_type": "markdown",
      "metadata": {
        "id": "oITJ3BHJiNXS"
      },
      "source": [
        "### __Lógica__\n",
        "\n",
        "<p>Como vimos na aula anterior, o tipo bool assume os valores True ou False. Esse tipo de variável costuma ser usada em conjunto dos conectivos lógicos, da lógica formal.</p>\n",
        "<p>São eles: OU (conectivo de disjunção) e E (conectivo de conjunção).</p>\n",
        "<p>Como assim? Bem, o conectivo OU é usado quando desejamos saber se ao menos uma entre 2 ou mais proposições é verdadeira. Ex: , temos que A = 5 e B = 2, se temos a expressão (A > 3) OU (B > 3), o resultado será Verdadeiro (ou True), pois a primeira proposição está certa, no caso (A <3 ) OU (B < 3),o raciocínio é idêntico. Você já deve imaginar que caso ambas estivessem certas, também teríamos Verdadeiro como resposta. Porém se tivéssemos (A < 3) OU (B > 3), a resposta seria Falsa (False).\n",
        "</p>\n",
        "<p>Já no caso do conectivo E, só teremos o True como resposta se todas as proposições relacionadas foram verdadeiras. Ex: sejam A = 3; B = 10 e C=7.</p>\n",
        "<p>Se tivermos (A > 2) E (B < 0) E (C < 20), a resposta será False, pois há uma proposição errada.</p>\n",
        "<p>No caso de termos (A < 5) E (B = 10) E (C > 3), a resposta será True, pois todas as expressões serão verdadeiras.</p>\n",
        "<p>Podemos também negar as expressões e inverter seu resultado, ou seja, se tivermos a proposição “NAO(B < 0)”, por exemplo, o resultado será True, pois o valor da expressão dentro dos parênteses foi invertido.</p>\n",
        "<p>No Python, o conectivo OU é representado por “or”; E é representado por “and” e NAO é representado por ”not”. ex:</p>\n",
        "\n",
        "\n"
      ]
    },
    {
      "cell_type": "code",
      "metadata": {
        "colab": {
          "base_uri": "https://localhost:8080/"
        },
        "id": "Ps8Buu5hjgey",
        "outputId": "4aa85aad-2c23-476a-9ff9-ea4fa1739aa5"
      },
      "source": [
        "a = 5\n",
        "b = 7\n",
        "c = 10\n",
        "print(a, b, c)\n",
        "print(a==3, b==7, c==10)\n",
        "print(a > 2 and b > 5 and c > 9)\n",
        "print(a < 0 and b > 3 and c > 6)\n",
        "print(a == 5 or b < 10)\n",
        "print(not(b < 0))"
      ],
      "execution_count": null,
      "outputs": [
        {
          "output_type": "stream",
          "text": [
            "5 7 10\n",
            "False True True\n",
            "True\n",
            "False\n",
            "True\n",
            "True\n"
          ],
          "name": "stdout"
        }
      ]
    },
    {
      "cell_type": "markdown",
      "metadata": {
        "id": "qVo8ncfJkzBk"
      },
      "source": [
        "Você certamente já conhece os outros operadores lógicos da matemática, a única diferença aqui é a representação de alguns. São eles:\n",
        "<br></br>\n",
        "\n",
        "Símbolo  | Operador\n",
        "--------- | ------\n",
        "and| E\n",
        "or| OU\n",
        "not | NAO\n",
        "> |  Maior que\n",
        "< | Menor que\n",
        ">= | Maior ou igual\n",
        "<= |  Menor ou igual\n",
        "== | Igual a\n",
        "!= | Diferente de\n"
      ]
    },
    {
      "cell_type": "markdown",
      "metadata": {
        "id": "EXfh36Wcrz7s"
      },
      "source": [
        "###__Estruturas condicionais__\n",
        "<p align=\"justify\">Em alguns casos precisaremos que o programa tenha diferentes opções do que fazer, com relação a um certo comportamento, para isso precisamos utilizar estruturas condicionais. A mais simples é composta por if e else, onde o computador analisará a condição presente no if, caso ela seja satisfeita, os passos presentes nele serão executadas, caso não, os passos presentes no else serão executados. Eles funcionam da seguinte forma:</p>\n"
      ]
    },
    {
      "cell_type": "markdown",
      "metadata": {
        "id": "DyEU8oJDKQR5"
      },
      "source": [
        "~~~python\n",
        "if (condição):\n",
        "  conjunto de passos\n",
        "~~~                                                                         \n",
        "\n",
        "~~~python\n",
        "else:\t\t\t\t\t\n",
        "conjunto de passos \t\t    \n",
        "~~~~  \t"
      ]
    },
    {
      "cell_type": "markdown",
      "metadata": {
        "id": "VM0BA5fjLbMf"
      },
      "source": [
        "####__Identação__\n",
        "\n",
        "<p>Diferente de outras linguagens, o Python só funciona corretamente com identação, ou seja, abaixo de cada estrutura, você precisará usar um Tab pra cada instrução presente nela.\n",
        "</p>\n",
        "<p align=\"justify\">Também é importante lembrar que toda estrutura de Python precisa dos dois pontos (“:”) logo depois da condição. Dois erros muito comuns de quem vem de linguagens como C++ e Java é esquecer do uso dos dois pontos ou utilizar chaves, o que evidentemente ocasionará erros no programa\n",
        "</p>\n",
        "<p>Abaixo temos um exemplo de código com if e else da média de um aluno a partir das notas de 4 provas. Caso a média seja igual ou superior a 7 ele estará aprovado, caso contrário, estará reprovado.\n",
        "</p>"
      ]
    },
    {
      "cell_type": "code",
      "metadata": {
        "id": "GHvXOSEsMCJ5"
      },
      "source": [
        "prova1 = float(input(\"Digite a nota da primeira prova \"))\n",
        "prova2 = float(input(\"Digite a nota da segunda prova \"))\n",
        "prova3 = float(input(\"Digite a nota da terceira prova \"))\n",
        "prova4 = float(input(\"Digite a nota da quarta prova \"))\n",
        "media = (prova1 + prova2 + prova3 + prova4)/4\n",
        "print(\"media: \" + str(media))\n",
        "if(media >= 7):\n",
        "  print(\"APROVADO\")\n",
        "else:\n",
        "  print(\"REPROVADO\")"
      ],
      "execution_count": null,
      "outputs": []
    },
    {
      "cell_type": "markdown",
      "metadata": {
        "id": "bzoq4jLQN1hO"
      },
      "source": [
        "<font color=\"red\">Note que na 6º linha do código acima, usamos o str(media), isso é usado para converter um tipo de variável distinta em um tipo string. Essa concatenação só seria possível dessa forma, pois não podemos concatenar strings com outro tipo de variável.</font>"
      ]
    },
    {
      "cell_type": "markdown",
      "metadata": {
        "id": "lI9BPjJTQvwm"
      },
      "source": [
        "Também é possível usar o elif, quando precisamos de mais de um caso diferente pré-determinado para a condicional. Podemos utilizar o mesmo exemplo acima, mas com alunos de médias entre 6 e 7 tendo a possibilidade da recuperação:\n"
      ]
    },
    {
      "cell_type": "code",
      "metadata": {
        "colab": {
          "base_uri": "https://localhost:8080/"
        },
        "id": "CM5bKiBfLzlv",
        "outputId": "1370a6d5-95d5-4d86-900d-6e9239e78d69"
      },
      "source": [
        "prova1 = float(input(\"Digite a nota da primeira prova \"))\n",
        "prova2 = float(input(\"Digite a nota da segunda prova \"))\n",
        "prova3 = float(input(\"Digite a nota da terceira prova \"))\n",
        "prova4 = float(input(\"Digite a nota da quarta prova \"))\n",
        "media = (prova1 + prova2 + prova3 + prova4)/4\n",
        "print(\"media: \" + str(media))\n",
        "if(media >= 7):\n",
        "  print(\"APROVADO\")\n",
        "elif(6 <= media < 7):\n",
        "  print(\"RECUPERAÇÃO\")\n",
        "else:\n",
        "  print(\"REPROVADO\")"
      ],
      "execution_count": null,
      "outputs": [
        {
          "output_type": "stream",
          "text": [
            "Digite a nota da primeira prova 6.5\n",
            "Digite a nota da segunda prova 6.5\n",
            "Digite a nota da terceira prova 6.5\n",
            "Digite a nota da quarta prova 6.5\n",
            "media: 6.5\n",
            "RECUPERAÇÃO\n"
          ],
          "name": "stdout"
        }
      ]
    },
    {
      "cell_type": "code",
      "metadata": {
        "id": "06FD4xRWRU3H"
      },
      "source": [
        ""
      ],
      "execution_count": null,
      "outputs": []
    },
    {
      "cell_type": "markdown",
      "metadata": {
        "id": "Yxq22tOHRVYp"
      },
      "source": [
        ""
      ]
    },
    {
      "cell_type": "markdown",
      "metadata": {
        "id": "TO5yJ2iFRdHf"
      },
      "source": [
        "## __Aula 3__"
      ]
    },
    {
      "cell_type": "markdown",
      "metadata": {
        "id": "SX4CnXltRyaR"
      },
      "source": [
        "###__Estruturas de Repetição__\n",
        "<p>Estruturas de repetição, como o nome sugere, são usadas quando precisamos que um determinado bloco de instruções seja realizado mais de uma vez. Em Python temos as estruturas While e For.</p>\n",
        "<p align=\"justify\">A estrutura de declaração é praticamente a mesma das condicionais, no caso do for, definimos uma condição de início e uma de parada, já no caso do while, definimos uma condição que deverá se manter para que o programa continue se repetindo e no momento que ela deixar de ser satisfeita, o loop se encerrará.</p>\n",
        "<p>Veja nos próximos slides exemplos de usos de for e while. Em ambos os casos, foi feito um loop para contar de 1 a 10 e exibir na tela.</p>\n",
        "\n"
      ]
    },
    {
      "cell_type": "code",
      "metadata": {
        "id": "dm975kmRryao"
      },
      "source": [
        "for c in range(1,11):\n",
        "  print(c)"
      ],
      "execution_count": null,
      "outputs": []
    },
    {
      "cell_type": "code",
      "metadata": {
        "id": "N4eolBQKS_sl"
      },
      "source": [
        "c = 1\n",
        "while(c < 11):\n",
        "  print(c)\n",
        "  c+=1"
      ],
      "execution_count": null,
      "outputs": []
    },
    {
      "cell_type": "markdown",
      "metadata": {
        "id": "JeqYZTJkTSPI"
      },
      "source": [
        "Note algumas coisas.\n",
        "\n",
        "\n",
        "1.   Utilizamos o operador “in”, que não foi introduzido antes, ele serve para a função range, explicada abaixo; para vetores, que são assunto de aulas posteriores, quando queremos saber se a entrada do usuário está dentro de um certo conjunto de algarismos, entre outras utilidades. \n",
        "\n",
        "2.   No programa com o for utilizamos “c in range(1,10)”, basicamente criando uma variável exclusiva para o for, que recebe valores de 1 a 10, sendo que ao chegar no 10 o bloco de comandos deixa de ser utilizado, ou seja, contamos de 1 até 10 (caso fosse necessário contar de 1 até 11, o range seria (1,12) e assim por diante). Esse comando é útil quando queremos que o bloco seja executado por n quantidade definida de vezes.\n",
        "\n",
        "3. No programa com o while criamos primeiro a variável fora, pois o while não permite a criação de variável em sua declaração de condicional e foi necessário incrementar o valor da variável com “+ = 1”, que basicamente faz “c = c + 1”, ou seja, atribui à variável seu valor anterior, somado com 1.\n",
        "\n",
        "\n"
      ]
    },
    {
      "cell_type": "code",
      "metadata": {
        "colab": {
          "base_uri": "https://localhost:8080/"
        },
        "id": "9KFSAz48sl9Z",
        "outputId": "5260ec1c-63cd-4164-b970-14e5aa7efeee"
      },
      "source": [
        "total = 0\n",
        "cavaleiros = 0\n",
        "shaka = 38200\n",
        "while total < shaka:\n",
        "  nome = input(\"Digite o nome do cavaleiro \")\n",
        "  cosmos = int(input(\"Digite o valor de cosmos do cavaleiro \"))\n",
        "  total += cosmos\n",
        "  cavaleiros += 1\n",
        "\n",
        "print(f'foram necessários {cavaleiros} cavaleiros para derrotar Shaka de Virgem, com um total de {total} de cosmos')"
      ],
      "execution_count": null,
      "outputs": [
        {
          "output_type": "stream",
          "text": [
            "Digite o nome do cavaleiro Saga de Gêmeos\n",
            "Digite o valor de cosmos do cavaleiro 20500\n",
            "Digite o nome do cavaleiro Camus de Aquário\n",
            "Digite o valor de cosmos do cavaleiro 15000\n",
            "Digite o nome do cavaleiro Shura de Capricórnio\n",
            "Digite o valor de cosmos do cavaleiro 10300\n",
            "foram necessários 3 cavaleiros para derrotar Shaka de Virgem, com um total de 45800 de cosmos\n"
          ],
          "name": "stdout"
        }
      ]
    },
    {
      "cell_type": "markdown",
      "metadata": {
        "id": "BbEdhb8JtoA6"
      },
      "source": [
        "Note ainda que:\n",
        "1. <p align=\"justify\">Usamos a variável “cavaleiros”, que foi iniciada com valor 0, ela é o que chamamos de contador, que como o nome sugere, serve quando precisamos contar um certo número de ocorrências de elementos dentro de um programa, quando não sabemos a quantidade previamente. No caso acima foi usado para contar a quantidade de cavaleiros que utilizamos, mas poderia ser pra qualquer conjunto de elementos em qualquer programa.</p>\n",
        "2. Foi usada uma maneira diferente de imprimir as coisas na tela, o nome desse método é f-strings, mas deixaremos que você procure mais sobre o assunto por conta própria.\n"
      ]
    },
    {
      "cell_type": "markdown",
      "metadata": {
        "id": "YFN9yF2uuvcm"
      },
      "source": [
        "Podemos ainda usar o comando “break” para parar um determinado código quando algo acontecer. Teste o código abaixo com alguns números, lembrando de inserir o 2 em algum momento e veja o que acontece.\n"
      ]
    },
    {
      "cell_type": "code",
      "metadata": {
        "id": "esgMdA10ux2I"
      },
      "source": [
        "while True:\n",
        "  a = int(input())\n",
        "  if a == 2:\n",
        "    break\n"
      ],
      "execution_count": null,
      "outputs": []
    },
    {
      "cell_type": "markdown",
      "metadata": {
        "id": "b-bwAXSfxMqp"
      },
      "source": [
        "<font color=\"red\">Lembre que o break pode ser usado no for também.</font>\n"
      ]
    },
    {
      "cell_type": "markdown",
      "metadata": {
        "id": "5KX2aZXYxuwy"
      },
      "source": [
        "## __Aula 4__"
      ]
    },
    {
      "cell_type": "markdown",
      "metadata": {
        "id": "kSF65mT1618G"
      },
      "source": [
        "### __Funções__\n",
        "\n",
        "<p>Em programação, funções nada mais são do que blocos de código usados  para separar e reaproveitar um trecho utilizado diversas vezes.</p>\n",
        "\n",
        "<p>Em Python, definimos uma função assim:</p>\n",
        "\n",
        "~~~~python\n",
        "def funcao(parametros):\n",
        "  \"\"\"\n",
        "    Bloco de comandos a serem executados várias vezes durante o programa\n",
        "  \"\"\"\n",
        "  return value\n",
        "~~~~\n",
        "\n",
        "\n",
        "<p>Exemplo:</p>\n"
      ]
    },
    {
      "cell_type": "code",
      "metadata": {
        "id": "g2kOvt6WB1h0"
      },
      "source": [
        "def login(username, passowrd):\n",
        "    if username == \"admin\" and password == \"admin\":\n",
        "      return \"Acesso Permitido\"\n",
        "    else:\n",
        "      return\"Acesso Negado\"\n",
        "\n",
        "username = input(\"Digite o usuário \")\n",
        "password = input(\"Digite a senha \")\n",
        "print(login(username, password))"
      ],
      "execution_count": null,
      "outputs": []
    },
    {
      "cell_type": "markdown",
      "metadata": {
        "id": "xy9TQvlyCl_g"
      },
      "source": [
        "#### __Parâmetros__\n",
        "\n",
        "<p>Os\tparâmetros\tnão\tsão\tobrigatórios!\tUma\tfunção\tpode\tter\tde\tzero\ta\tn\n",
        "parâmetros.</p>\n",
        "\n",
        "<p>Os parâmetros podem ser definidos em lista e conter valores default. Nesse  caso, se o valor do parâmetro não for passado quando a função é chamada o  valor default será utilizado pela função.</p>\n",
        "\n",
        "\n",
        "<p>As funções tem namespace local, ou seja, se existir uma variável com o mesmo  nome dentro e fora da função, a que está dentro é a considerada\n",
        "OBS.: Parâmetros SEM default sempre devem vir primeiro na lista de parâmetros</p>\n"
      ]
    },
    {
      "cell_type": "code",
      "metadata": {
        "id": "elRdFEL8D5AN"
      },
      "source": [
        "def login(username, password=\"admin\"):\n",
        "    if username == \"admin\" and password == \"admin\":\n",
        "      return \"Acesso Permitido\"\n",
        "    else:\n",
        "      return\"Acesso Negado\"\n",
        "\n",
        "username = input(\"Digite o usuário \")\n",
        "print(login(username))"
      ],
      "execution_count": null,
      "outputs": []
    },
    {
      "cell_type": "markdown",
      "metadata": {
        "id": "AmM82CYIEfer"
      },
      "source": [
        "#### __Return__\n",
        "<p>A função __sempre se  encerra__ quando o return é executado.\n"
      ]
    }
  ]
}